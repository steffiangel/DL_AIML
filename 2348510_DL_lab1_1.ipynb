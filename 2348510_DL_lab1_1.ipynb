{
  "nbformat": 4,
  "nbformat_minor": 0,
  "metadata": {
    "colab": {
      "provenance": [],
      "include_colab_link": true
    },
    "kernelspec": {
      "name": "python3",
      "display_name": "Python 3"
    },
    "language_info": {
      "name": "python"
    }
  },
  "cells": [
    {
      "cell_type": "markdown",
      "metadata": {
        "id": "view-in-github",
        "colab_type": "text"
      },
      "source": [
        "<a href=\"https://colab.research.google.com/github/steffiangel/DL_AIML/blob/main/2348510_DL_lab1_1.ipynb\" target=\"_parent\"><img src=\"https://colab.research.google.com/assets/colab-badge.svg\" alt=\"Open In Colab\"/></a>"
      ]
    },
    {
      "cell_type": "code",
      "execution_count": null,
      "metadata": {
        "id": "s2dZKSCcG2I0"
      },
      "outputs": [],
      "source": [
        "import numpy as np\n",
        "\n",
        "def perceptron_train(inputs, targets, learning_rate=0.1, epochs=1000):\n",
        "\n",
        "    inputs = np.c_[inputs, np.ones(len(inputs))]\n",
        "\n",
        "\n",
        "    weights = np.random.rand(inputs.shape[1])\n",
        "\n",
        "    for epoch in range(epochs):\n",
        "        for i in range(len(inputs)):\n",
        "\n",
        "            prediction = np.dot(inputs[i], weights)\n",
        "\n",
        "\n",
        "            weights += learning_rate * (targets[i] - (prediction > 0)) * inputs[i]\n",
        "\n",
        "    return weights"
      ]
    },
    {
      "cell_type": "code",
      "source": [
        "def perceptron_predict(inputs, weights):\n",
        "    # Add a bias term to inputs\n",
        "    inputs = np.c_[inputs, np.ones(len(inputs))]\n",
        "\n",
        "    # Compute the predicted output\n",
        "    predictions = np.dot(inputs, weights)\n",
        "\n",
        "    # Apply step function to get binary output\n",
        "    return predictions > 0"
      ],
      "metadata": {
        "id": "9h7ys7BOIKR-"
      },
      "execution_count": null,
      "outputs": []
    },
    {
      "cell_type": "code",
      "source": [
        "\n",
        "and_inputs = np.array([[0, 0], [0, 1], [1, 0], [1, 1]])\n",
        "or_inputs = np.array([[0, 0], [0, 1], [1, 0], [1, 1]])\n",
        "nand_inputs = np.array([[0, 0], [0, 1], [1, 0], [1, 1]])\n",
        "xor_inputs = np.array([[0, 0], [0, 1], [1, 0], [1, 1]])\n",
        "\n",
        "and_targets = np.array([0, 0, 0, 1])\n",
        "or_targets = np.array([0, 1, 1, 1])\n",
        "nand_targets = np.array([1, 1, 1, 0])\n",
        "xor_targets = np.array([0, 1, 1, 0])"
      ],
      "metadata": {
        "id": "C-wp4Mo5IKoO"
      },
      "execution_count": null,
      "outputs": []
    },
    {
      "cell_type": "code",
      "source": [
        "\n",
        "and_weights = perceptron_train(and_inputs, and_targets)\n",
        "or_weights = perceptron_train(or_inputs, or_targets)\n",
        "nand_weights = perceptron_train(nand_inputs, nand_targets)\n",
        "xor_weights = perceptron_train(xor_inputs, xor_targets)\n",
        "\n",
        "# Test\n",
        "and_predictions = perceptron_predict(and_inputs, and_weights)\n",
        "or_predictions = perceptron_predict(or_inputs, or_weights)\n",
        "nand_predictions = perceptron_predict(nand_inputs, nand_weights)\n",
        "xor_predictions = perceptron_predict(xor_inputs, xor_weights)\n",
        "\n"
      ],
      "metadata": {
        "id": "6Acge4npIYE5"
      },
      "execution_count": null,
      "outputs": []
    },
    {
      "cell_type": "code",
      "source": [
        "\n",
        "print(\"AND Predictions:\", and_predictions)\n",
        "print(\"OR Predictions:\", or_predictions)\n",
        "print(\"NAND Predictions:\", nand_predictions)\n",
        "print(\"XOR Predictions:\", xor_predictions)"
      ],
      "metadata": {
        "colab": {
          "base_uri": "https://localhost:8080/"
        },
        "id": "diQoM89SIacC",
        "outputId": "97d1a927-ed5c-46e9-fbd0-ce0c868ff094"
      },
      "execution_count": null,
      "outputs": [
        {
          "output_type": "stream",
          "name": "stdout",
          "text": [
            "AND Predictions: [False False False  True]\n",
            "OR Predictions: [False  True  True  True]\n",
            "NAND Predictions: [ True  True  True False]\n",
            "XOR Predictions: [ True  True False False]\n"
          ]
        }
      ]
    },
    {
      "cell_type": "code",
      "source": [
        "\n",
        "manual_and_weights = np.array([0.5, 0.5, -0.7])\n",
        "manual_or_weights = np.array([0.5, 0.5, -0.2])\n",
        "manual_nand_weights = np.array([-0.5, -0.5, 0.7])\n",
        "manual_xor_weights = np.array([0.5, 0.5, -0.2])\n",
        "\n",
        "manual_and_predictions = perceptron_predict(and_inputs, manual_and_weights)\n",
        "manual_or_predictions = perceptron_predict(or_inputs, manual_or_weights)\n",
        "manual_nand_predictions = perceptron_predict(nand_inputs, manual_nand_weights)\n",
        "manual_xor_predictions = perceptron_predict(xor_inputs, manual_xor_weights)\n",
        "\n",
        "\n",
        "print(\"\\nManually Assigned Weights:\")\n",
        "print(\"AND Predictions:\", manual_and_predictions)\n",
        "print(\"OR Predictions:\", manual_or_predictions)\n",
        "print(\"NAND Predictions:\", manual_nand_predictions)\n",
        "print(\"XOR Predictions:\", manual_xor_predictions)\n",
        "\n",
        "# Count errors for manually assigned weights\n",
        "manual_and_errors = np.sum(manual_and_predictions != and_targets)\n",
        "manual_or_errors = np.sum(manual_or_predictions != or_targets)\n",
        "manual_nand_errors = np.sum(manual_nand_predictions != nand_targets)\n",
        "manual_xor_errors = np.sum(manual_xor_predictions != xor_targets)\n",
        "\n",
        "\n",
        "print(\"\\nNumber of Errors for Manually Assigned Weights:\")\n",
        "print(\"AND Errors:\", manual_and_errors)\n",
        "print(\"OR Errors:\", manual_or_errors)\n",
        "print(\"NAND Errors:\", manual_nand_errors)\n",
        "print(\"XOR Errors:\", manual_xor_errors)\n"
      ],
      "metadata": {
        "colab": {
          "base_uri": "https://localhost:8080/"
        },
        "id": "_HbKcdLgJ1J5",
        "outputId": "401137cc-249f-4a8b-a956-d6cfe1ed0455"
      },
      "execution_count": null,
      "outputs": [
        {
          "output_type": "stream",
          "name": "stdout",
          "text": [
            "\n",
            "Manually Assigned Weights:\n",
            "AND Predictions: [False False False  True]\n",
            "OR Predictions: [False  True  True  True]\n",
            "NAND Predictions: [ True  True  True False]\n",
            "XOR Predictions: [False  True  True  True]\n",
            "\n",
            "Number of Errors for Manually Assigned Weights:\n",
            "AND Errors: 0\n",
            "OR Errors: 0\n",
            "NAND Errors: 0\n",
            "XOR Errors: 1\n"
          ]
        }
      ]
    },
    {
      "cell_type": "code",
      "source": [
        "def perceptron_train_with_manual_weights(inputs, targets, weights, learning_rate=0.1, epochs=1000):\n",
        "    # Add a bias term to inputs\n",
        "    inputs = np.c_[inputs, np.ones(len(inputs))]\n",
        "\n",
        "    for epoch in range(epochs):\n",
        "        for i in range(len(inputs)):\n",
        "            # Compute the predicted output\n",
        "            prediction = np.dot(inputs[i], weights)\n",
        "\n",
        "            # Update weights based on the perceptron learning rule\n",
        "            weights += learning_rate * (targets[i] - (prediction > 0)) * inputs[i]\n",
        "\n",
        "    return weights\n",
        "\n",
        "\n",
        "manual_and_weights_updated = perceptron_train_with_manual_weights(and_inputs, and_targets, manual_and_weights)\n",
        "manual_or_weights_updated = perceptron_train_with_manual_weights(or_inputs, or_targets, manual_or_weights)\n",
        "manual_nand_weights_updated = perceptron_train_with_manual_weights(nand_inputs, nand_targets, manual_nand_weights)\n",
        "manual_xor_weights_updated = perceptron_train_with_manual_weights(xor_inputs, xor_targets, manual_xor_weights)\n",
        "\n",
        "\n",
        "manual_and_predictions_updated = perceptron_predict(and_inputs, manual_and_weights_updated)\n",
        "manual_or_predictions_updated = perceptron_predict(or_inputs, manual_or_weights_updated)\n",
        "manual_nand_predictions_updated = perceptron_predict(nand_inputs, manual_nand_weights_updated)\n",
        "manual_xor_predictions_updated = perceptron_predict(xor_inputs, manual_xor_weights_updated)\n",
        "\n",
        "\n",
        "print(\"\\nUpdated Manually Assigned Weights:\")\n",
        "print(\"AND Predictions:\", manual_and_predictions_updated)\n",
        "print(\"OR Predictions:\", manual_or_predictions_updated)\n",
        "print(\"NAND Predictions:\", manual_nand_predictions_updated)\n",
        "print(\"XOR Predictions:\", manual_xor_predictions_updated)\n",
        "\n",
        "# Count errors for updated manual weights\n",
        "manual_and_errors_updated = np.sum(manual_and_predictions_updated != and_targets)\n",
        "manual_or_errors_updated = np.sum(manual_or_predictions_updated != or_targets)\n",
        "manual_nand_errors_updated = np.sum(manual_nand_predictions_updated != nand_targets)\n",
        "manual_xor_errors_updated = np.sum(manual_xor_predictions_updated != xor_targets)\n",
        "\n",
        "print(\"\\nNumber of Errors for Updated Manually Assigned Weights:\")\n",
        "print(\"AND Errors:\", manual_and_errors_updated)\n",
        "print(\"OR Errors:\", manual_or_errors_updated)\n",
        "print(\"NAND Errors:\", manual_nand_errors_updated)\n",
        "print(\"XOR Errors:\", manual_xor_errors_updated)\n"
      ],
      "metadata": {
        "colab": {
          "base_uri": "https://localhost:8080/"
        },
        "id": "v9g0UdfvKRcD",
        "outputId": "0ec7892c-850f-4eea-9ef1-d719b53efd27"
      },
      "execution_count": null,
      "outputs": [
        {
          "output_type": "stream",
          "name": "stdout",
          "text": [
            "\n",
            "Updated Manually Assigned Weights:\n",
            "AND Predictions: [False False False  True]\n",
            "OR Predictions: [False  True  True  True]\n",
            "NAND Predictions: [ True  True  True False]\n",
            "XOR Predictions: [ True  True False  True]\n",
            "\n",
            "Number of Errors for Updated Manually Assigned Weights:\n",
            "AND Errors: 0\n",
            "OR Errors: 0\n",
            "NAND Errors: 0\n",
            "XOR Errors: 3\n"
          ]
        }
      ]
    },
    {
      "cell_type": "code",
      "source": [],
      "metadata": {
        "id": "be0NGfKUmDzH"
      },
      "execution_count": null,
      "outputs": []
    }
  ]
}